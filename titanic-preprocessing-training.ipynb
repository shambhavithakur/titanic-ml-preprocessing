{
 "cells": [
  {
   "cell_type": "markdown",
   "metadata": {
    "papermill": {
     "duration": 0.05521,
     "end_time": "2020-10-01T04:18:57.582585",
     "exception": false,
     "start_time": "2020-10-01T04:18:57.527375",
     "status": "completed"
    },
    "tags": []
   },
   "source": [
    "# Predicting the Survival of Titanic Passengers: Preprocessing and Model Training\n",
    "\n",
    "## Preprocessing"
   ]
  },
  {
   "cell_type": "code",
   "execution_count": 1,
   "metadata": {
    "_cell_guid": "b1076dfc-b9ad-4769-8c92-a6c4dae69d19",
    "_uuid": "8f2839f25d086af736a60e9eeb907d3b93b6e0e5",
    "execution": {
     "iopub.execute_input": "2020-10-01T04:18:57.696794Z",
     "iopub.status.busy": "2020-10-01T04:18:57.695875Z",
     "iopub.status.idle": "2020-10-01T04:18:57.723986Z",
     "shell.execute_reply": "2020-10-01T04:18:57.723121Z"
    },
    "papermill": {
     "duration": 0.091475,
     "end_time": "2020-10-01T04:18:57.724123",
     "exception": false,
     "start_time": "2020-10-01T04:18:57.632648",
     "status": "completed"
    },
    "tags": []
   },
   "outputs": [],
   "source": [
    "import numpy as np\n",
    "import pandas as pd\n",
    "\n",
    "seed = 0\n",
    "train = pd.read_csv('../input/titanic/train.csv')\n",
    "test = pd.read_csv('../input/titanic/test.csv')"
   ]
  },
  {
   "cell_type": "code",
   "execution_count": 2,
   "metadata": {
    "execution": {
     "iopub.execute_input": "2020-10-01T04:18:57.847080Z",
     "iopub.status.busy": "2020-10-01T04:18:57.845692Z",
     "iopub.status.idle": "2020-10-01T04:18:57.850159Z",
     "shell.execute_reply": "2020-10-01T04:18:57.850767Z"
    },
    "papermill": {
     "duration": 0.071521,
     "end_time": "2020-10-01T04:18:57.850966",
     "exception": false,
     "start_time": "2020-10-01T04:18:57.779445",
     "status": "completed"
    },
    "tags": []
   },
   "outputs": [],
   "source": [
    "# Saving passenger IDs in a new dataframe\n",
    "\n",
    "output = pd.DataFrame(test.PassengerId)"
   ]
  },
  {
   "cell_type": "code",
   "execution_count": 3,
   "metadata": {
    "_cell_guid": "79c7e3d0-c299-4dcb-8224-4455121ee9b0",
    "_uuid": "d629ff2d2480ee46fbb7e2d37f6b5fab8052498a",
    "execution": {
     "iopub.execute_input": "2020-10-01T04:18:57.962661Z",
     "iopub.status.busy": "2020-10-01T04:18:57.961391Z",
     "iopub.status.idle": "2020-10-01T04:18:57.966719Z",
     "shell.execute_reply": "2020-10-01T04:18:57.966102Z"
    },
    "papermill": {
     "duration": 0.065491,
     "end_time": "2020-10-01T04:18:57.966865",
     "exception": false,
     "start_time": "2020-10-01T04:18:57.901374",
     "status": "completed"
    },
    "tags": []
   },
   "outputs": [
    {
     "data": {
      "text/plain": [
       "((891, 12), (418, 11))"
      ]
     },
     "execution_count": 3,
     "metadata": {},
     "output_type": "execute_result"
    }
   ],
   "source": [
    "train.shape, test.shape"
   ]
  },
  {
   "cell_type": "code",
   "execution_count": 4,
   "metadata": {
    "execution": {
     "iopub.execute_input": "2020-10-01T04:18:58.082003Z",
     "iopub.status.busy": "2020-10-01T04:18:58.080843Z",
     "iopub.status.idle": "2020-10-01T04:18:58.084949Z",
     "shell.execute_reply": "2020-10-01T04:18:58.084282Z"
    },
    "papermill": {
     "duration": 0.066067,
     "end_time": "2020-10-01T04:18:58.085100",
     "exception": false,
     "start_time": "2020-10-01T04:18:58.019033",
     "status": "completed"
    },
    "tags": []
   },
   "outputs": [],
   "source": [
    "def get_nulls_dtypes(df):\n",
    "    mask = df.isnull()\n",
    "    total = mask.sum()\n",
    "    percent = mask.mean() * 100\n",
    "    dtypes = df.dtypes\n",
    "\n",
    "    missing_data = pd.concat([total, percent, dtypes], axis=1, join='outer',\\\n",
    "                             keys=['count_null', 'percent_null', 'data_type'])\n",
    "    missing_data.sort_values(by='percent_null', ascending=False, inplace=True)\n",
    "    return missing_data[missing_data.count_null > 0]"
   ]
  },
  {
   "cell_type": "code",
   "execution_count": 5,
   "metadata": {
    "execution": {
     "iopub.execute_input": "2020-10-01T04:18:58.198427Z",
     "iopub.status.busy": "2020-10-01T04:18:58.197336Z",
     "iopub.status.idle": "2020-10-01T04:18:58.244738Z",
     "shell.execute_reply": "2020-10-01T04:18:58.244050Z"
    },
    "papermill": {
     "duration": 0.107848,
     "end_time": "2020-10-01T04:18:58.244901",
     "exception": false,
     "start_time": "2020-10-01T04:18:58.137053",
     "status": "completed"
    },
    "tags": []
   },
   "outputs": [
    {
     "data": {
      "text/html": [
       "<div>\n",
       "<style scoped>\n",
       "    .dataframe tbody tr th:only-of-type {\n",
       "        vertical-align: middle;\n",
       "    }\n",
       "\n",
       "    .dataframe tbody tr th {\n",
       "        vertical-align: top;\n",
       "    }\n",
       "\n",
       "    .dataframe thead th {\n",
       "        text-align: right;\n",
       "    }\n",
       "</style>\n",
       "<table border=\"1\" class=\"dataframe\">\n",
       "  <thead>\n",
       "    <tr style=\"text-align: right;\">\n",
       "      <th></th>\n",
       "      <th>count_null</th>\n",
       "      <th>percent_null</th>\n",
       "      <th>data_type</th>\n",
       "    </tr>\n",
       "  </thead>\n",
       "  <tbody>\n",
       "    <tr>\n",
       "      <th>Cabin</th>\n",
       "      <td>687</td>\n",
       "      <td>77.104377</td>\n",
       "      <td>object</td>\n",
       "    </tr>\n",
       "    <tr>\n",
       "      <th>Age</th>\n",
       "      <td>177</td>\n",
       "      <td>19.865320</td>\n",
       "      <td>float64</td>\n",
       "    </tr>\n",
       "    <tr>\n",
       "      <th>Embarked</th>\n",
       "      <td>2</td>\n",
       "      <td>0.224467</td>\n",
       "      <td>object</td>\n",
       "    </tr>\n",
       "  </tbody>\n",
       "</table>\n",
       "</div>"
      ],
      "text/plain": [
       "          count_null  percent_null data_type\n",
       "Cabin            687     77.104377    object\n",
       "Age              177     19.865320   float64\n",
       "Embarked           2      0.224467    object"
      ]
     },
     "execution_count": 5,
     "metadata": {},
     "output_type": "execute_result"
    }
   ],
   "source": [
    "get_nulls_dtypes(train)"
   ]
  },
  {
   "cell_type": "code",
   "execution_count": 6,
   "metadata": {
    "execution": {
     "iopub.execute_input": "2020-10-01T04:18:58.368377Z",
     "iopub.status.busy": "2020-10-01T04:18:58.367527Z",
     "iopub.status.idle": "2020-10-01T04:18:58.372701Z",
     "shell.execute_reply": "2020-10-01T04:18:58.373578Z"
    },
    "papermill": {
     "duration": 0.074127,
     "end_time": "2020-10-01T04:18:58.373889",
     "exception": false,
     "start_time": "2020-10-01T04:18:58.299762",
     "status": "completed"
    },
    "tags": []
   },
   "outputs": [
    {
     "data": {
      "text/html": [
       "<div>\n",
       "<style scoped>\n",
       "    .dataframe tbody tr th:only-of-type {\n",
       "        vertical-align: middle;\n",
       "    }\n",
       "\n",
       "    .dataframe tbody tr th {\n",
       "        vertical-align: top;\n",
       "    }\n",
       "\n",
       "    .dataframe thead th {\n",
       "        text-align: right;\n",
       "    }\n",
       "</style>\n",
       "<table border=\"1\" class=\"dataframe\">\n",
       "  <thead>\n",
       "    <tr style=\"text-align: right;\">\n",
       "      <th></th>\n",
       "      <th>count_null</th>\n",
       "      <th>percent_null</th>\n",
       "      <th>data_type</th>\n",
       "    </tr>\n",
       "  </thead>\n",
       "  <tbody>\n",
       "    <tr>\n",
       "      <th>Cabin</th>\n",
       "      <td>327</td>\n",
       "      <td>78.229665</td>\n",
       "      <td>object</td>\n",
       "    </tr>\n",
       "    <tr>\n",
       "      <th>Age</th>\n",
       "      <td>86</td>\n",
       "      <td>20.574163</td>\n",
       "      <td>float64</td>\n",
       "    </tr>\n",
       "    <tr>\n",
       "      <th>Fare</th>\n",
       "      <td>1</td>\n",
       "      <td>0.239234</td>\n",
       "      <td>float64</td>\n",
       "    </tr>\n",
       "  </tbody>\n",
       "</table>\n",
       "</div>"
      ],
      "text/plain": [
       "       count_null  percent_null data_type\n",
       "Cabin         327     78.229665    object\n",
       "Age            86     20.574163   float64\n",
       "Fare            1      0.239234   float64"
      ]
     },
     "execution_count": 6,
     "metadata": {},
     "output_type": "execute_result"
    }
   ],
   "source": [
    "get_nulls_dtypes(test)"
   ]
  },
  {
   "cell_type": "code",
   "execution_count": 7,
   "metadata": {
    "execution": {
     "iopub.execute_input": "2020-10-01T04:18:58.506668Z",
     "iopub.status.busy": "2020-10-01T04:18:58.504215Z",
     "iopub.status.idle": "2020-10-01T04:18:58.513553Z",
     "shell.execute_reply": "2020-10-01T04:18:58.512873Z"
    },
    "papermill": {
     "duration": 0.08004,
     "end_time": "2020-10-01T04:18:58.513683",
     "exception": false,
     "start_time": "2020-10-01T04:18:58.433643",
     "status": "completed"
    },
    "tags": []
   },
   "outputs": [],
   "source": [
    "datasets = [train, test]\n",
    "\n",
    "for dataset in datasets:\n",
    "    dataset.drop(['PassengerId', 'Ticket'], axis=1, inplace=True)"
   ]
  },
  {
   "cell_type": "code",
   "execution_count": 8,
   "metadata": {
    "execution": {
     "iopub.execute_input": "2020-10-01T04:18:58.644127Z",
     "iopub.status.busy": "2020-10-01T04:18:58.643078Z",
     "iopub.status.idle": "2020-10-01T04:18:58.648844Z",
     "shell.execute_reply": "2020-10-01T04:18:58.648069Z"
    },
    "papermill": {
     "duration": 0.077754,
     "end_time": "2020-10-01T04:18:58.648993",
     "exception": false,
     "start_time": "2020-10-01T04:18:58.571239",
     "status": "completed"
    },
    "tags": []
   },
   "outputs": [],
   "source": [
    "datasets = [train, test]\n",
    "\n",
    "for dataset in datasets:\n",
    "    mean_age = train.Age.mean()\n",
    "    std_age = test.Age.std()\n",
    "    num_null = dataset.Age.isnull().sum()\n",
    "    \n",
    "    random_age = np.random.randint(mean_age - std_age, mean_age + std_age, size=num_null)\n",
    "    \n",
    "    age_slice = dataset.Age.copy()\n",
    "    age_slice[np.isnan(age_slice)] = random_age\n",
    "    \n",
    "    dataset.Age = age_slice\n",
    "    dataset.Age = dataset.Age.astype(int)"
   ]
  },
  {
   "cell_type": "code",
   "execution_count": 9,
   "metadata": {
    "execution": {
     "iopub.execute_input": "2020-10-01T04:18:58.770980Z",
     "iopub.status.busy": "2020-10-01T04:18:58.769972Z",
     "iopub.status.idle": "2020-10-01T04:18:58.773444Z",
     "shell.execute_reply": "2020-10-01T04:18:58.772756Z"
    },
    "papermill": {
     "duration": 0.068065,
     "end_time": "2020-10-01T04:18:58.773572",
     "exception": false,
     "start_time": "2020-10-01T04:18:58.705507",
     "status": "completed"
    },
    "tags": []
   },
   "outputs": [],
   "source": [
    "embarked_mode = train.Embarked.mode()[0]\n",
    "\n",
    "train.Embarked = train.Embarked.fillna(embarked_mode)"
   ]
  },
  {
   "cell_type": "code",
   "execution_count": 10,
   "metadata": {
    "execution": {
     "iopub.execute_input": "2020-10-01T04:18:58.894329Z",
     "iopub.status.busy": "2020-10-01T04:18:58.891863Z",
     "iopub.status.idle": "2020-10-01T04:18:58.898883Z",
     "shell.execute_reply": "2020-10-01T04:18:58.898026Z"
    },
    "papermill": {
     "duration": 0.06764,
     "end_time": "2020-10-01T04:18:58.899029",
     "exception": false,
     "start_time": "2020-10-01T04:18:58.831389",
     "status": "completed"
    },
    "tags": []
   },
   "outputs": [],
   "source": [
    "datasets = [train, test]\n",
    "\n",
    "for dataset in datasets:\n",
    "    dataset.Fare = dataset.Fare.fillna(0)\n",
    "    dataset.Fare = dataset.Fare.astype(int)"
   ]
  },
  {
   "cell_type": "code",
   "execution_count": 11,
   "metadata": {
    "execution": {
     "iopub.execute_input": "2020-10-01T04:18:59.032511Z",
     "iopub.status.busy": "2020-10-01T04:18:59.031374Z",
     "iopub.status.idle": "2020-10-01T04:18:59.037332Z",
     "shell.execute_reply": "2020-10-01T04:18:59.036584Z"
    },
    "papermill": {
     "duration": 0.08207,
     "end_time": "2020-10-01T04:18:59.037498",
     "exception": false,
     "start_time": "2020-10-01T04:18:58.955428",
     "status": "completed"
    },
    "tags": []
   },
   "outputs": [
    {
     "data": {
      "text/html": [
       "<div>\n",
       "<style scoped>\n",
       "    .dataframe tbody tr th:only-of-type {\n",
       "        vertical-align: middle;\n",
       "    }\n",
       "\n",
       "    .dataframe tbody tr th {\n",
       "        vertical-align: top;\n",
       "    }\n",
       "\n",
       "    .dataframe thead th {\n",
       "        text-align: right;\n",
       "    }\n",
       "</style>\n",
       "<table border=\"1\" class=\"dataframe\">\n",
       "  <thead>\n",
       "    <tr style=\"text-align: right;\">\n",
       "      <th></th>\n",
       "      <th>count_null</th>\n",
       "      <th>percent_null</th>\n",
       "      <th>data_type</th>\n",
       "    </tr>\n",
       "  </thead>\n",
       "  <tbody>\n",
       "    <tr>\n",
       "      <th>Cabin</th>\n",
       "      <td>687</td>\n",
       "      <td>77.104377</td>\n",
       "      <td>object</td>\n",
       "    </tr>\n",
       "  </tbody>\n",
       "</table>\n",
       "</div>"
      ],
      "text/plain": [
       "       count_null  percent_null data_type\n",
       "Cabin         687     77.104377    object"
      ]
     },
     "execution_count": 11,
     "metadata": {},
     "output_type": "execute_result"
    }
   ],
   "source": [
    "get_nulls_dtypes(train)"
   ]
  },
  {
   "cell_type": "code",
   "execution_count": 12,
   "metadata": {
    "execution": {
     "iopub.execute_input": "2020-10-01T04:18:59.165917Z",
     "iopub.status.busy": "2020-10-01T04:18:59.164747Z",
     "iopub.status.idle": "2020-10-01T04:18:59.170089Z",
     "shell.execute_reply": "2020-10-01T04:18:59.170677Z"
    },
    "papermill": {
     "duration": 0.078038,
     "end_time": "2020-10-01T04:18:59.170871",
     "exception": false,
     "start_time": "2020-10-01T04:18:59.092833",
     "status": "completed"
    },
    "tags": []
   },
   "outputs": [
    {
     "data": {
      "text/html": [
       "<div>\n",
       "<style scoped>\n",
       "    .dataframe tbody tr th:only-of-type {\n",
       "        vertical-align: middle;\n",
       "    }\n",
       "\n",
       "    .dataframe tbody tr th {\n",
       "        vertical-align: top;\n",
       "    }\n",
       "\n",
       "    .dataframe thead th {\n",
       "        text-align: right;\n",
       "    }\n",
       "</style>\n",
       "<table border=\"1\" class=\"dataframe\">\n",
       "  <thead>\n",
       "    <tr style=\"text-align: right;\">\n",
       "      <th></th>\n",
       "      <th>count_null</th>\n",
       "      <th>percent_null</th>\n",
       "      <th>data_type</th>\n",
       "    </tr>\n",
       "  </thead>\n",
       "  <tbody>\n",
       "    <tr>\n",
       "      <th>Cabin</th>\n",
       "      <td>327</td>\n",
       "      <td>78.229665</td>\n",
       "      <td>object</td>\n",
       "    </tr>\n",
       "  </tbody>\n",
       "</table>\n",
       "</div>"
      ],
      "text/plain": [
       "       count_null  percent_null data_type\n",
       "Cabin         327     78.229665    object"
      ]
     },
     "execution_count": 12,
     "metadata": {},
     "output_type": "execute_result"
    }
   ],
   "source": [
    "get_nulls_dtypes(test)"
   ]
  },
  {
   "cell_type": "code",
   "execution_count": 13,
   "metadata": {
    "execution": {
     "iopub.execute_input": "2020-10-01T04:18:59.299141Z",
     "iopub.status.busy": "2020-10-01T04:18:59.298038Z",
     "iopub.status.idle": "2020-10-01T04:18:59.302389Z",
     "shell.execute_reply": "2020-10-01T04:18:59.302985Z"
    },
    "papermill": {
     "duration": 0.074228,
     "end_time": "2020-10-01T04:18:59.303179",
     "exception": false,
     "start_time": "2020-10-01T04:18:59.228951",
     "status": "completed"
    },
    "tags": []
   },
   "outputs": [],
   "source": [
    "datasets = [train, test]\n",
    "\n",
    "for dataset in datasets:\n",
    "    dataset['Title'] = dataset.Name.map(lambda name: name.split(',')[1].split('.')[0].strip())"
   ]
  },
  {
   "cell_type": "code",
   "execution_count": 14,
   "metadata": {
    "execution": {
     "iopub.execute_input": "2020-10-01T04:18:59.422757Z",
     "iopub.status.busy": "2020-10-01T04:18:59.421704Z",
     "iopub.status.idle": "2020-10-01T04:18:59.425740Z",
     "shell.execute_reply": "2020-10-01T04:18:59.424860Z"
    },
    "papermill": {
     "duration": 0.066733,
     "end_time": "2020-10-01T04:18:59.425897",
     "exception": false,
     "start_time": "2020-10-01T04:18:59.359164",
     "status": "completed"
    },
    "tags": []
   },
   "outputs": [],
   "source": [
    "title_dict = {\n",
    "    \"Mr\": \"Mr\", \"Ms\": \"Mrs\", \"Mrs\": \"Mrs\",\"Mme\": \"Mrs\",\\\n",
    "    \"Miss\": \"Miss\", \"Mlle\": \"Miss\", \"Master\": \"Master\",\\\n",
    "    \"Don\": \"Rare\", \"Dona\": \"Rare\", \"Lady\": \"Rare\",\\\n",
    "    \"Sir\": \"Rare\", \"Jonkheer\": \"Rare\", \"the Countess\": \"Rare\",\\\n",
    "    \"Dr\": \"Rare\", \"Rev\": \"Rare\", \"Col\": \"Rare\",\\\n",
    "    \"Capt\": \"Rare\",\"Major\": \"Rare\"\n",
    "}"
   ]
  },
  {
   "cell_type": "code",
   "execution_count": 15,
   "metadata": {
    "execution": {
     "iopub.execute_input": "2020-10-01T04:18:59.555362Z",
     "iopub.status.busy": "2020-10-01T04:18:59.554312Z",
     "iopub.status.idle": "2020-10-01T04:18:59.559352Z",
     "shell.execute_reply": "2020-10-01T04:18:59.558235Z"
    },
    "papermill": {
     "duration": 0.074412,
     "end_time": "2020-10-01T04:18:59.559568",
     "exception": false,
     "start_time": "2020-10-01T04:18:59.485156",
     "status": "completed"
    },
    "tags": []
   },
   "outputs": [],
   "source": [
    "datasets = [train, test]\n",
    "\n",
    "for dataset in datasets:\n",
    "    dataset.Title = dataset.Title.map(title_dict)"
   ]
  },
  {
   "cell_type": "code",
   "execution_count": 16,
   "metadata": {
    "execution": {
     "iopub.execute_input": "2020-10-01T04:18:59.715988Z",
     "iopub.status.busy": "2020-10-01T04:18:59.711449Z",
     "iopub.status.idle": "2020-10-01T04:18:59.731071Z",
     "shell.execute_reply": "2020-10-01T04:18:59.731700Z"
    },
    "papermill": {
     "duration": 0.097952,
     "end_time": "2020-10-01T04:18:59.731885",
     "exception": false,
     "start_time": "2020-10-01T04:18:59.633933",
     "status": "completed"
    },
    "tags": []
   },
   "outputs": [
    {
     "data": {
      "text/html": [
       "<div>\n",
       "<style scoped>\n",
       "    .dataframe tbody tr th:only-of-type {\n",
       "        vertical-align: middle;\n",
       "    }\n",
       "\n",
       "    .dataframe tbody tr th {\n",
       "        vertical-align: top;\n",
       "    }\n",
       "\n",
       "    .dataframe thead th {\n",
       "        text-align: right;\n",
       "    }\n",
       "</style>\n",
       "<table border=\"1\" class=\"dataframe\">\n",
       "  <thead>\n",
       "    <tr style=\"text-align: right;\">\n",
       "      <th></th>\n",
       "      <th>Survived</th>\n",
       "      <th>Pclass</th>\n",
       "      <th>Age</th>\n",
       "      <th>SibSp</th>\n",
       "      <th>Parch</th>\n",
       "      <th>Fare</th>\n",
       "    </tr>\n",
       "    <tr>\n",
       "      <th>Title</th>\n",
       "      <th></th>\n",
       "      <th></th>\n",
       "      <th></th>\n",
       "      <th></th>\n",
       "      <th></th>\n",
       "      <th></th>\n",
       "    </tr>\n",
       "  </thead>\n",
       "  <tbody>\n",
       "    <tr>\n",
       "      <th>Master</th>\n",
       "      <td>0.575000</td>\n",
       "      <td>2.625000</td>\n",
       "      <td>7.050000</td>\n",
       "      <td>2.300000</td>\n",
       "      <td>1.375000</td>\n",
       "      <td>34.250000</td>\n",
       "    </tr>\n",
       "    <tr>\n",
       "      <th>Miss</th>\n",
       "      <td>0.701087</td>\n",
       "      <td>2.293478</td>\n",
       "      <td>22.793478</td>\n",
       "      <td>0.706522</td>\n",
       "      <td>0.543478</td>\n",
       "      <td>43.505435</td>\n",
       "    </tr>\n",
       "    <tr>\n",
       "      <th>Mr</th>\n",
       "      <td>0.156673</td>\n",
       "      <td>2.410058</td>\n",
       "      <td>31.257253</td>\n",
       "      <td>0.288201</td>\n",
       "      <td>0.152805</td>\n",
       "      <td>24.021277</td>\n",
       "    </tr>\n",
       "    <tr>\n",
       "      <th>Mrs</th>\n",
       "      <td>0.795276</td>\n",
       "      <td>1.992126</td>\n",
       "      <td>35.188976</td>\n",
       "      <td>0.685039</td>\n",
       "      <td>0.818898</td>\n",
       "      <td>44.732283</td>\n",
       "    </tr>\n",
       "    <tr>\n",
       "      <th>Rare</th>\n",
       "      <td>0.347826</td>\n",
       "      <td>1.347826</td>\n",
       "      <td>44.956522</td>\n",
       "      <td>0.347826</td>\n",
       "      <td>0.086957</td>\n",
       "      <td>36.782609</td>\n",
       "    </tr>\n",
       "  </tbody>\n",
       "</table>\n",
       "</div>"
      ],
      "text/plain": [
       "        Survived    Pclass        Age     SibSp     Parch       Fare\n",
       "Title                                                               \n",
       "Master  0.575000  2.625000   7.050000  2.300000  1.375000  34.250000\n",
       "Miss    0.701087  2.293478  22.793478  0.706522  0.543478  43.505435\n",
       "Mr      0.156673  2.410058  31.257253  0.288201  0.152805  24.021277\n",
       "Mrs     0.795276  1.992126  35.188976  0.685039  0.818898  44.732283\n",
       "Rare    0.347826  1.347826  44.956522  0.347826  0.086957  36.782609"
      ]
     },
     "execution_count": 16,
     "metadata": {},
     "output_type": "execute_result"
    }
   ],
   "source": [
    "train.groupby('Title').mean()"
   ]
  },
  {
   "cell_type": "code",
   "execution_count": 17,
   "metadata": {
    "execution": {
     "iopub.execute_input": "2020-10-01T04:18:59.867100Z",
     "iopub.status.busy": "2020-10-01T04:18:59.857518Z",
     "iopub.status.idle": "2020-10-01T04:18:59.873454Z",
     "shell.execute_reply": "2020-10-01T04:18:59.872595Z"
    },
    "papermill": {
     "duration": 0.081332,
     "end_time": "2020-10-01T04:18:59.873604",
     "exception": false,
     "start_time": "2020-10-01T04:18:59.792272",
     "status": "completed"
    },
    "tags": []
   },
   "outputs": [
    {
     "data": {
      "text/html": [
       "<div>\n",
       "<style scoped>\n",
       "    .dataframe tbody tr th:only-of-type {\n",
       "        vertical-align: middle;\n",
       "    }\n",
       "\n",
       "    .dataframe tbody tr th {\n",
       "        vertical-align: top;\n",
       "    }\n",
       "\n",
       "    .dataframe thead th {\n",
       "        text-align: right;\n",
       "    }\n",
       "</style>\n",
       "<table border=\"1\" class=\"dataframe\">\n",
       "  <thead>\n",
       "    <tr style=\"text-align: right;\">\n",
       "      <th></th>\n",
       "      <th>Pclass</th>\n",
       "      <th>Age</th>\n",
       "      <th>SibSp</th>\n",
       "      <th>Parch</th>\n",
       "      <th>Fare</th>\n",
       "    </tr>\n",
       "    <tr>\n",
       "      <th>Title</th>\n",
       "      <th></th>\n",
       "      <th></th>\n",
       "      <th></th>\n",
       "      <th></th>\n",
       "      <th></th>\n",
       "    </tr>\n",
       "  </thead>\n",
       "  <tbody>\n",
       "    <tr>\n",
       "      <th>Master</th>\n",
       "      <td>2.714286</td>\n",
       "      <td>11.904762</td>\n",
       "      <td>1.571429</td>\n",
       "      <td>1.380952</td>\n",
       "      <td>38.142857</td>\n",
       "    </tr>\n",
       "    <tr>\n",
       "      <th>Miss</th>\n",
       "      <td>2.435897</td>\n",
       "      <td>22.602564</td>\n",
       "      <td>0.551282</td>\n",
       "      <td>0.397436</td>\n",
       "      <td>39.551282</td>\n",
       "    </tr>\n",
       "    <tr>\n",
       "      <th>Mr</th>\n",
       "      <td>2.320833</td>\n",
       "      <td>30.925000</td>\n",
       "      <td>0.270833</td>\n",
       "      <td>0.175000</td>\n",
       "      <td>25.016667</td>\n",
       "    </tr>\n",
       "    <tr>\n",
       "      <th>Mrs</th>\n",
       "      <td>1.849315</td>\n",
       "      <td>37.643836</td>\n",
       "      <td>0.589041</td>\n",
       "      <td>0.821918</td>\n",
       "      <td>58.890411</td>\n",
       "    </tr>\n",
       "    <tr>\n",
       "      <th>Rare</th>\n",
       "      <td>1.333333</td>\n",
       "      <td>43.833333</td>\n",
       "      <td>0.500000</td>\n",
       "      <td>0.333333</td>\n",
       "      <td>80.500000</td>\n",
       "    </tr>\n",
       "  </tbody>\n",
       "</table>\n",
       "</div>"
      ],
      "text/plain": [
       "          Pclass        Age     SibSp     Parch       Fare\n",
       "Title                                                     \n",
       "Master  2.714286  11.904762  1.571429  1.380952  38.142857\n",
       "Miss    2.435897  22.602564  0.551282  0.397436  39.551282\n",
       "Mr      2.320833  30.925000  0.270833  0.175000  25.016667\n",
       "Mrs     1.849315  37.643836  0.589041  0.821918  58.890411\n",
       "Rare    1.333333  43.833333  0.500000  0.333333  80.500000"
      ]
     },
     "execution_count": 17,
     "metadata": {},
     "output_type": "execute_result"
    }
   ],
   "source": [
    "test.groupby('Title').mean()"
   ]
  },
  {
   "cell_type": "code",
   "execution_count": 18,
   "metadata": {
    "execution": {
     "iopub.execute_input": "2020-10-01T04:19:00.014513Z",
     "iopub.status.busy": "2020-10-01T04:19:00.013230Z",
     "iopub.status.idle": "2020-10-01T04:19:00.040621Z",
     "shell.execute_reply": "2020-10-01T04:19:00.039508Z"
    },
    "papermill": {
     "duration": 0.10921,
     "end_time": "2020-10-01T04:19:00.040804",
     "exception": false,
     "start_time": "2020-10-01T04:18:59.931594",
     "status": "completed"
    },
    "tags": []
   },
   "outputs": [],
   "source": [
    "datasets = [train, test]\n",
    "\n",
    "for dataset in datasets:\n",
    "    dataset['AgeClass'] = dataset.Age * dataset.Pclass\n",
    "    dataset['FamSize'] = dataset.SibSp + dataset.Parch + 1\n",
    "    dataset.loc[dataset.FamSize > 1, 'Alone'] = 'No'\n",
    "    dataset.loc[dataset.FamSize == 1, 'Alone'] = 'Yes'"
   ]
  },
  {
   "cell_type": "code",
   "execution_count": 19,
   "metadata": {
    "execution": {
     "iopub.execute_input": "2020-10-01T04:19:00.192922Z",
     "iopub.status.busy": "2020-10-01T04:19:00.191791Z",
     "iopub.status.idle": "2020-10-01T04:19:00.195898Z",
     "shell.execute_reply": "2020-10-01T04:19:00.195160Z"
    },
    "papermill": {
     "duration": 0.08058,
     "end_time": "2020-10-01T04:19:00.196054",
     "exception": false,
     "start_time": "2020-10-01T04:19:00.115474",
     "status": "completed"
    },
    "tags": []
   },
   "outputs": [],
   "source": [
    "datasets = [train, test]\n",
    "\n",
    "for dataset in datasets:\n",
    "    dataset['FarePerPerson'] = dataset.Fare / dataset.FamSize\n",
    "    dataset['FarePerPerson'] = dataset.FarePerPerson.astype(int)"
   ]
  },
  {
   "cell_type": "code",
   "execution_count": 20,
   "metadata": {
    "execution": {
     "iopub.execute_input": "2020-10-01T04:19:00.331673Z",
     "iopub.status.busy": "2020-10-01T04:19:00.330877Z",
     "iopub.status.idle": "2020-10-01T04:19:00.338914Z",
     "shell.execute_reply": "2020-10-01T04:19:00.338242Z"
    },
    "papermill": {
     "duration": 0.079239,
     "end_time": "2020-10-01T04:19:00.339059",
     "exception": false,
     "start_time": "2020-10-01T04:19:00.259820",
     "status": "completed"
    },
    "tags": []
   },
   "outputs": [],
   "source": [
    "datasets = [train, test]\n",
    "\n",
    "for dataset in datasets:\n",
    "    dataset['Deck'] = dataset.Cabin.map(lambda x: x[0] if not pd.isnull(x) else 'X')\n",
    "    dataset.drop('Cabin', axis=1, inplace=True)"
   ]
  },
  {
   "cell_type": "code",
   "execution_count": 21,
   "metadata": {
    "execution": {
     "iopub.execute_input": "2020-10-01T04:19:00.462448Z",
     "iopub.status.busy": "2020-10-01T04:19:00.461234Z",
     "iopub.status.idle": "2020-10-01T04:19:00.485566Z",
     "shell.execute_reply": "2020-10-01T04:19:00.484682Z"
    },
    "papermill": {
     "duration": 0.089364,
     "end_time": "2020-10-01T04:19:00.485750",
     "exception": false,
     "start_time": "2020-10-01T04:19:00.396386",
     "status": "completed"
    },
    "tags": []
   },
   "outputs": [
    {
     "data": {
      "text/html": [
       "<div>\n",
       "<style scoped>\n",
       "    .dataframe tbody tr th:only-of-type {\n",
       "        vertical-align: middle;\n",
       "    }\n",
       "\n",
       "    .dataframe tbody tr th {\n",
       "        vertical-align: top;\n",
       "    }\n",
       "\n",
       "    .dataframe thead th {\n",
       "        text-align: right;\n",
       "    }\n",
       "</style>\n",
       "<table border=\"1\" class=\"dataframe\">\n",
       "  <thead>\n",
       "    <tr style=\"text-align: right;\">\n",
       "      <th></th>\n",
       "      <th>Survived</th>\n",
       "      <th>Pclass</th>\n",
       "      <th>Age</th>\n",
       "      <th>SibSp</th>\n",
       "      <th>Parch</th>\n",
       "      <th>Fare</th>\n",
       "      <th>AgeClass</th>\n",
       "      <th>FamSize</th>\n",
       "      <th>FarePerPerson</th>\n",
       "    </tr>\n",
       "    <tr>\n",
       "      <th>Deck</th>\n",
       "      <th></th>\n",
       "      <th></th>\n",
       "      <th></th>\n",
       "      <th></th>\n",
       "      <th></th>\n",
       "      <th></th>\n",
       "      <th></th>\n",
       "      <th></th>\n",
       "      <th></th>\n",
       "    </tr>\n",
       "  </thead>\n",
       "  <tbody>\n",
       "    <tr>\n",
       "      <th>A</th>\n",
       "      <td>0.466667</td>\n",
       "      <td>1.000000</td>\n",
       "      <td>42.133333</td>\n",
       "      <td>0.133333</td>\n",
       "      <td>0.133333</td>\n",
       "      <td>39.266667</td>\n",
       "      <td>42.133333</td>\n",
       "      <td>1.266667</td>\n",
       "      <td>32.466667</td>\n",
       "    </tr>\n",
       "    <tr>\n",
       "      <th>B</th>\n",
       "      <td>0.744681</td>\n",
       "      <td>1.000000</td>\n",
       "      <td>35.212766</td>\n",
       "      <td>0.361702</td>\n",
       "      <td>0.574468</td>\n",
       "      <td>113.191489</td>\n",
       "      <td>35.212766</td>\n",
       "      <td>1.936170</td>\n",
       "      <td>68.978723</td>\n",
       "    </tr>\n",
       "    <tr>\n",
       "      <th>C</th>\n",
       "      <td>0.593220</td>\n",
       "      <td>1.000000</td>\n",
       "      <td>34.881356</td>\n",
       "      <td>0.644068</td>\n",
       "      <td>0.474576</td>\n",
       "      <td>99.728814</td>\n",
       "      <td>34.881356</td>\n",
       "      <td>2.118644</td>\n",
       "      <td>51.745763</td>\n",
       "    </tr>\n",
       "    <tr>\n",
       "      <th>D</th>\n",
       "      <td>0.757576</td>\n",
       "      <td>1.121212</td>\n",
       "      <td>39.181818</td>\n",
       "      <td>0.424242</td>\n",
       "      <td>0.303030</td>\n",
       "      <td>56.787879</td>\n",
       "      <td>43.090909</td>\n",
       "      <td>1.727273</td>\n",
       "      <td>33.848485</td>\n",
       "    </tr>\n",
       "    <tr>\n",
       "      <th>E</th>\n",
       "      <td>0.750000</td>\n",
       "      <td>1.312500</td>\n",
       "      <td>36.812500</td>\n",
       "      <td>0.312500</td>\n",
       "      <td>0.312500</td>\n",
       "      <td>45.593750</td>\n",
       "      <td>45.125000</td>\n",
       "      <td>1.625000</td>\n",
       "      <td>28.656250</td>\n",
       "    </tr>\n",
       "    <tr>\n",
       "      <th>F</th>\n",
       "      <td>0.615385</td>\n",
       "      <td>2.384615</td>\n",
       "      <td>21.230769</td>\n",
       "      <td>0.538462</td>\n",
       "      <td>0.538462</td>\n",
       "      <td>18.384615</td>\n",
       "      <td>53.461538</td>\n",
       "      <td>2.076923</td>\n",
       "      <td>8.461538</td>\n",
       "    </tr>\n",
       "    <tr>\n",
       "      <th>G</th>\n",
       "      <td>0.500000</td>\n",
       "      <td>3.000000</td>\n",
       "      <td>14.750000</td>\n",
       "      <td>0.500000</td>\n",
       "      <td>1.250000</td>\n",
       "      <td>13.000000</td>\n",
       "      <td>44.250000</td>\n",
       "      <td>2.750000</td>\n",
       "      <td>4.500000</td>\n",
       "    </tr>\n",
       "    <tr>\n",
       "      <th>T</th>\n",
       "      <td>0.000000</td>\n",
       "      <td>1.000000</td>\n",
       "      <td>45.000000</td>\n",
       "      <td>0.000000</td>\n",
       "      <td>0.000000</td>\n",
       "      <td>35.000000</td>\n",
       "      <td>45.000000</td>\n",
       "      <td>1.000000</td>\n",
       "      <td>35.000000</td>\n",
       "    </tr>\n",
       "    <tr>\n",
       "      <th>X</th>\n",
       "      <td>0.299854</td>\n",
       "      <td>2.639010</td>\n",
       "      <td>27.573508</td>\n",
       "      <td>0.547307</td>\n",
       "      <td>0.365357</td>\n",
       "      <td>18.732169</td>\n",
       "      <td>71.149927</td>\n",
       "      <td>1.912664</td>\n",
       "      <td>12.155750</td>\n",
       "    </tr>\n",
       "  </tbody>\n",
       "</table>\n",
       "</div>"
      ],
      "text/plain": [
       "      Survived    Pclass        Age     SibSp     Parch        Fare  \\\n",
       "Deck                                                                  \n",
       "A     0.466667  1.000000  42.133333  0.133333  0.133333   39.266667   \n",
       "B     0.744681  1.000000  35.212766  0.361702  0.574468  113.191489   \n",
       "C     0.593220  1.000000  34.881356  0.644068  0.474576   99.728814   \n",
       "D     0.757576  1.121212  39.181818  0.424242  0.303030   56.787879   \n",
       "E     0.750000  1.312500  36.812500  0.312500  0.312500   45.593750   \n",
       "F     0.615385  2.384615  21.230769  0.538462  0.538462   18.384615   \n",
       "G     0.500000  3.000000  14.750000  0.500000  1.250000   13.000000   \n",
       "T     0.000000  1.000000  45.000000  0.000000  0.000000   35.000000   \n",
       "X     0.299854  2.639010  27.573508  0.547307  0.365357   18.732169   \n",
       "\n",
       "       AgeClass   FamSize  FarePerPerson  \n",
       "Deck                                      \n",
       "A     42.133333  1.266667      32.466667  \n",
       "B     35.212766  1.936170      68.978723  \n",
       "C     34.881356  2.118644      51.745763  \n",
       "D     43.090909  1.727273      33.848485  \n",
       "E     45.125000  1.625000      28.656250  \n",
       "F     53.461538  2.076923       8.461538  \n",
       "G     44.250000  2.750000       4.500000  \n",
       "T     45.000000  1.000000      35.000000  \n",
       "X     71.149927  1.912664      12.155750  "
      ]
     },
     "execution_count": 21,
     "metadata": {},
     "output_type": "execute_result"
    }
   ],
   "source": [
    "train.groupby('Deck').mean()"
   ]
  },
  {
   "cell_type": "code",
   "execution_count": 22,
   "metadata": {
    "execution": {
     "iopub.execute_input": "2020-10-01T04:19:00.609591Z",
     "iopub.status.busy": "2020-10-01T04:19:00.608793Z",
     "iopub.status.idle": "2020-10-01T04:19:00.612233Z",
     "shell.execute_reply": "2020-10-01T04:19:00.611558Z"
    },
    "papermill": {
     "duration": 0.068152,
     "end_time": "2020-10-01T04:19:00.612370",
     "exception": false,
     "start_time": "2020-10-01T04:19:00.544218",
     "status": "completed"
    },
    "tags": []
   },
   "outputs": [],
   "source": [
    "train.loc[train.Deck=='T', 'Deck'] = 'X'"
   ]
  },
  {
   "cell_type": "code",
   "execution_count": 23,
   "metadata": {
    "execution": {
     "iopub.execute_input": "2020-10-01T04:19:00.755919Z",
     "iopub.status.busy": "2020-10-01T04:19:00.741990Z",
     "iopub.status.idle": "2020-10-01T04:19:00.761545Z",
     "shell.execute_reply": "2020-10-01T04:19:00.762127Z"
    },
    "papermill": {
     "duration": 0.088827,
     "end_time": "2020-10-01T04:19:00.762317",
     "exception": false,
     "start_time": "2020-10-01T04:19:00.673490",
     "status": "completed"
    },
    "tags": []
   },
   "outputs": [
    {
     "data": {
      "text/html": [
       "<div>\n",
       "<style scoped>\n",
       "    .dataframe tbody tr th:only-of-type {\n",
       "        vertical-align: middle;\n",
       "    }\n",
       "\n",
       "    .dataframe tbody tr th {\n",
       "        vertical-align: top;\n",
       "    }\n",
       "\n",
       "    .dataframe thead th {\n",
       "        text-align: right;\n",
       "    }\n",
       "</style>\n",
       "<table border=\"1\" class=\"dataframe\">\n",
       "  <thead>\n",
       "    <tr style=\"text-align: right;\">\n",
       "      <th></th>\n",
       "      <th>Pclass</th>\n",
       "      <th>Age</th>\n",
       "      <th>SibSp</th>\n",
       "      <th>Parch</th>\n",
       "      <th>Fare</th>\n",
       "      <th>AgeClass</th>\n",
       "      <th>FamSize</th>\n",
       "      <th>FarePerPerson</th>\n",
       "    </tr>\n",
       "    <tr>\n",
       "      <th>Deck</th>\n",
       "      <th></th>\n",
       "      <th></th>\n",
       "      <th></th>\n",
       "      <th></th>\n",
       "      <th></th>\n",
       "      <th></th>\n",
       "      <th></th>\n",
       "      <th></th>\n",
       "    </tr>\n",
       "  </thead>\n",
       "  <tbody>\n",
       "    <tr>\n",
       "      <th>A</th>\n",
       "      <td>1.000000</td>\n",
       "      <td>43.000000</td>\n",
       "      <td>0.285714</td>\n",
       "      <td>0.285714</td>\n",
       "      <td>44.000000</td>\n",
       "      <td>43.000000</td>\n",
       "      <td>1.571429</td>\n",
       "      <td>28.571429</td>\n",
       "    </tr>\n",
       "    <tr>\n",
       "      <th>B</th>\n",
       "      <td>1.000000</td>\n",
       "      <td>40.277778</td>\n",
       "      <td>0.666667</td>\n",
       "      <td>0.888889</td>\n",
       "      <td>145.166667</td>\n",
       "      <td>40.277778</td>\n",
       "      <td>2.555556</td>\n",
       "      <td>66.888889</td>\n",
       "    </tr>\n",
       "    <tr>\n",
       "      <th>C</th>\n",
       "      <td>1.000000</td>\n",
       "      <td>41.714286</td>\n",
       "      <td>0.742857</td>\n",
       "      <td>0.314286</td>\n",
       "      <td>120.571429</td>\n",
       "      <td>41.714286</td>\n",
       "      <td>2.057143</td>\n",
       "      <td>70.628571</td>\n",
       "    </tr>\n",
       "    <tr>\n",
       "      <th>D</th>\n",
       "      <td>1.153846</td>\n",
       "      <td>39.692308</td>\n",
       "      <td>0.384615</td>\n",
       "      <td>0.153846</td>\n",
       "      <td>41.769231</td>\n",
       "      <td>44.461538</td>\n",
       "      <td>1.538462</td>\n",
       "      <td>27.692308</td>\n",
       "    </tr>\n",
       "    <tr>\n",
       "      <th>E</th>\n",
       "      <td>1.000000</td>\n",
       "      <td>36.000000</td>\n",
       "      <td>0.444444</td>\n",
       "      <td>0.666667</td>\n",
       "      <td>84.555556</td>\n",
       "      <td>36.000000</td>\n",
       "      <td>2.111111</td>\n",
       "      <td>45.555556</td>\n",
       "    </tr>\n",
       "    <tr>\n",
       "      <th>F</th>\n",
       "      <td>2.375000</td>\n",
       "      <td>24.250000</td>\n",
       "      <td>0.250000</td>\n",
       "      <td>0.500000</td>\n",
       "      <td>16.875000</td>\n",
       "      <td>58.500000</td>\n",
       "      <td>1.750000</td>\n",
       "      <td>9.375000</td>\n",
       "    </tr>\n",
       "    <tr>\n",
       "      <th>G</th>\n",
       "      <td>3.000000</td>\n",
       "      <td>1.000000</td>\n",
       "      <td>1.000000</td>\n",
       "      <td>1.000000</td>\n",
       "      <td>16.000000</td>\n",
       "      <td>3.000000</td>\n",
       "      <td>3.000000</td>\n",
       "      <td>5.000000</td>\n",
       "    </tr>\n",
       "    <tr>\n",
       "      <th>X</th>\n",
       "      <td>2.571865</td>\n",
       "      <td>27.293578</td>\n",
       "      <td>0.412844</td>\n",
       "      <td>0.373089</td>\n",
       "      <td>18.581040</td>\n",
       "      <td>68.470948</td>\n",
       "      <td>1.785933</td>\n",
       "      <td>12.737003</td>\n",
       "    </tr>\n",
       "  </tbody>\n",
       "</table>\n",
       "</div>"
      ],
      "text/plain": [
       "        Pclass        Age     SibSp     Parch        Fare   AgeClass  \\\n",
       "Deck                                                                   \n",
       "A     1.000000  43.000000  0.285714  0.285714   44.000000  43.000000   \n",
       "B     1.000000  40.277778  0.666667  0.888889  145.166667  40.277778   \n",
       "C     1.000000  41.714286  0.742857  0.314286  120.571429  41.714286   \n",
       "D     1.153846  39.692308  0.384615  0.153846   41.769231  44.461538   \n",
       "E     1.000000  36.000000  0.444444  0.666667   84.555556  36.000000   \n",
       "F     2.375000  24.250000  0.250000  0.500000   16.875000  58.500000   \n",
       "G     3.000000   1.000000  1.000000  1.000000   16.000000   3.000000   \n",
       "X     2.571865  27.293578  0.412844  0.373089   18.581040  68.470948   \n",
       "\n",
       "       FamSize  FarePerPerson  \n",
       "Deck                           \n",
       "A     1.571429      28.571429  \n",
       "B     2.555556      66.888889  \n",
       "C     2.057143      70.628571  \n",
       "D     1.538462      27.692308  \n",
       "E     2.111111      45.555556  \n",
       "F     1.750000       9.375000  \n",
       "G     3.000000       5.000000  \n",
       "X     1.785933      12.737003  "
      ]
     },
     "execution_count": 23,
     "metadata": {},
     "output_type": "execute_result"
    }
   ],
   "source": [
    "test.groupby('Deck').mean()"
   ]
  },
  {
   "cell_type": "code",
   "execution_count": 24,
   "metadata": {
    "execution": {
     "iopub.execute_input": "2020-10-01T04:19:00.897708Z",
     "iopub.status.busy": "2020-10-01T04:19:00.894256Z",
     "iopub.status.idle": "2020-10-01T04:19:00.904524Z",
     "shell.execute_reply": "2020-10-01T04:19:00.903874Z"
    },
    "papermill": {
     "duration": 0.079067,
     "end_time": "2020-10-01T04:19:00.904662",
     "exception": false,
     "start_time": "2020-10-01T04:19:00.825595",
     "status": "completed"
    },
    "tags": []
   },
   "outputs": [],
   "source": [
    "cut_points = [-1, 1, 4, 12, 18, 35, 65, 100]\n",
    "label_names = [\"infant\", \"toddler\", \"child\", \"teenager\",\\\n",
    "                   \"young_adult\", \"adult\", \"senior\"]\n",
    "\n",
    "train[\"AgeCategory\"] = pd.cut(train[\"Age\"], cut_points, labels=label_names)\n",
    "test[\"AgeCategory\"] = pd.cut(test[\"Age\"], cut_points, labels=label_names)"
   ]
  },
  {
   "cell_type": "code",
   "execution_count": 25,
   "metadata": {
    "execution": {
     "iopub.execute_input": "2020-10-01T04:19:01.041641Z",
     "iopub.status.busy": "2020-10-01T04:19:01.040612Z",
     "iopub.status.idle": "2020-10-01T04:19:01.052042Z",
     "shell.execute_reply": "2020-10-01T04:19:01.051239Z"
    },
    "papermill": {
     "duration": 0.083617,
     "end_time": "2020-10-01T04:19:01.052184",
     "exception": false,
     "start_time": "2020-10-01T04:19:00.968567",
     "status": "completed"
    },
    "tags": []
   },
   "outputs": [],
   "source": [
    "cut_points = [-1, 4, 10, 20, 45, 1000]\n",
    "label_names = [\"very_low\", \"low\", \"medium\", \"high\", \"very_high\"]\n",
    "\n",
    "train[\"FareCategory\"] = pd.cut(train[\"Fare\"], cut_points, labels=label_names)\n",
    "test[\"FareCategory\"] = pd.cut(test[\"Fare\"], cut_points, labels=label_names)"
   ]
  },
  {
   "cell_type": "code",
   "execution_count": 26,
   "metadata": {
    "execution": {
     "iopub.execute_input": "2020-10-01T04:19:01.188143Z",
     "iopub.status.busy": "2020-10-01T04:19:01.187171Z",
     "iopub.status.idle": "2020-10-01T04:19:01.191261Z",
     "shell.execute_reply": "2020-10-01T04:19:01.192042Z"
    },
    "papermill": {
     "duration": 0.075852,
     "end_time": "2020-10-01T04:19:01.192244",
     "exception": false,
     "start_time": "2020-10-01T04:19:01.116392",
     "status": "completed"
    },
    "tags": []
   },
   "outputs": [],
   "source": [
    "datasets = [train, test]\n",
    "\n",
    "for dataset in datasets:\n",
    "    dataset.drop(['Name', 'Age', 'Fare'], axis=1, inplace=True)"
   ]
  },
  {
   "cell_type": "code",
   "execution_count": 27,
   "metadata": {
    "execution": {
     "iopub.execute_input": "2020-10-01T04:19:01.324447Z",
     "iopub.status.busy": "2020-10-01T04:19:01.323294Z",
     "iopub.status.idle": "2020-10-01T04:19:01.328874Z",
     "shell.execute_reply": "2020-10-01T04:19:01.328086Z"
    },
    "papermill": {
     "duration": 0.075629,
     "end_time": "2020-10-01T04:19:01.329014",
     "exception": false,
     "start_time": "2020-10-01T04:19:01.253385",
     "status": "completed"
    },
    "tags": []
   },
   "outputs": [],
   "source": [
    "datasets = [train, test]\n",
    "\n",
    "for dataset in datasets:\n",
    "    dataset.Pclass = dataset.Pclass.astype('category')"
   ]
  },
  {
   "cell_type": "code",
   "execution_count": 28,
   "metadata": {
    "execution": {
     "iopub.execute_input": "2020-10-01T04:19:01.464428Z",
     "iopub.status.busy": "2020-10-01T04:19:01.460527Z",
     "iopub.status.idle": "2020-10-01T04:19:01.469107Z",
     "shell.execute_reply": "2020-10-01T04:19:01.468470Z"
    },
    "papermill": {
     "duration": 0.078529,
     "end_time": "2020-10-01T04:19:01.469272",
     "exception": false,
     "start_time": "2020-10-01T04:19:01.390743",
     "status": "completed"
    },
    "tags": []
   },
   "outputs": [],
   "source": [
    "categorical_cols = list(train.select_dtypes\\\n",
    "                                (include=['object', 'category']).columns)"
   ]
  },
  {
   "cell_type": "code",
   "execution_count": 29,
   "metadata": {
    "execution": {
     "iopub.execute_input": "2020-10-01T04:19:01.615089Z",
     "iopub.status.busy": "2020-10-01T04:19:01.614024Z",
     "iopub.status.idle": "2020-10-01T04:19:01.675077Z",
     "shell.execute_reply": "2020-10-01T04:19:01.674210Z"
    },
    "papermill": {
     "duration": 0.144521,
     "end_time": "2020-10-01T04:19:01.675236",
     "exception": false,
     "start_time": "2020-10-01T04:19:01.530715",
     "status": "completed"
    },
    "tags": []
   },
   "outputs": [],
   "source": [
    "# Creating dummies\n",
    "\n",
    "for col in categorical_cols:\n",
    "    train = pd.concat([train, pd.get_dummies(train[col], prefix=col)], axis=1)\n",
    "    test = pd.concat([test, pd.get_dummies(test[col], prefix=col)], axis=1)\n",
    "    \n",
    "    train.drop(col, axis = 1, inplace=True)\n",
    "    test.drop(col, axis = 1, inplace=True)"
   ]
  },
  {
   "cell_type": "code",
   "execution_count": 30,
   "metadata": {
    "execution": {
     "iopub.execute_input": "2020-10-01T04:19:01.814228Z",
     "iopub.status.busy": "2020-10-01T04:19:01.812957Z",
     "iopub.status.idle": "2020-10-01T04:19:01.818970Z",
     "shell.execute_reply": "2020-10-01T04:19:01.818186Z"
    },
    "papermill": {
     "duration": 0.080307,
     "end_time": "2020-10-01T04:19:01.819098",
     "exception": false,
     "start_time": "2020-10-01T04:19:01.738791",
     "status": "completed"
    },
    "tags": []
   },
   "outputs": [],
   "source": [
    "# Deleting some of the dummies because they represent one of two categories\n",
    "\n",
    "datasets = [train, test]\n",
    "\n",
    "for dataset in datasets:\n",
    "    dataset.drop(['Sex_female', 'Alone_No'], axis=1, inplace=True)"
   ]
  },
  {
   "cell_type": "code",
   "execution_count": 31,
   "metadata": {
    "execution": {
     "iopub.execute_input": "2020-10-01T04:19:01.959883Z",
     "iopub.status.busy": "2020-10-01T04:19:01.958840Z",
     "iopub.status.idle": "2020-10-01T04:19:01.962674Z",
     "shell.execute_reply": "2020-10-01T04:19:01.961900Z"
    },
    "papermill": {
     "duration": 0.076473,
     "end_time": "2020-10-01T04:19:01.962815",
     "exception": false,
     "start_time": "2020-10-01T04:19:01.886342",
     "status": "completed"
    },
    "tags": []
   },
   "outputs": [],
   "source": [
    "numerical_cols = list(test.select_dtypes\\\n",
    "                                (include=['int64', 'float64', 'int32']).columns)"
   ]
  },
  {
   "cell_type": "code",
   "execution_count": 32,
   "metadata": {
    "execution": {
     "iopub.execute_input": "2020-10-01T04:19:02.096733Z",
     "iopub.status.busy": "2020-10-01T04:19:02.095930Z",
     "iopub.status.idle": "2020-10-01T04:19:03.358087Z",
     "shell.execute_reply": "2020-10-01T04:19:03.357443Z"
    },
    "papermill": {
     "duration": 1.331174,
     "end_time": "2020-10-01T04:19:03.358314",
     "exception": false,
     "start_time": "2020-10-01T04:19:02.027140",
     "status": "completed"
    },
    "tags": []
   },
   "outputs": [],
   "source": [
    "# Scaling numerical columns\n",
    "\n",
    "from sklearn.preprocessing import StandardScaler\n",
    "\n",
    "scaler = StandardScaler()\n",
    "\n",
    "datasets = [train, test]\n",
    "\n",
    "for dataset in datasets:\n",
    "    dataset[numerical_cols] = scaler.fit_transform(dataset[numerical_cols])"
   ]
  },
  {
   "cell_type": "code",
   "execution_count": 33,
   "metadata": {
    "execution": {
     "iopub.execute_input": "2020-10-01T04:19:03.496145Z",
     "iopub.status.busy": "2020-10-01T04:19:03.495336Z",
     "iopub.status.idle": "2020-10-01T04:19:03.571153Z",
     "shell.execute_reply": "2020-10-01T04:19:03.570288Z"
    },
    "papermill": {
     "duration": 0.147802,
     "end_time": "2020-10-01T04:19:03.571290",
     "exception": false,
     "start_time": "2020-10-01T04:19:03.423488",
     "status": "completed"
    },
    "tags": []
   },
   "outputs": [],
   "source": [
    "from sklearn.model_selection import train_test_split\n",
    "X = train.copy().drop(\"Survived\", axis=1)\n",
    "y = train.copy().Survived"
   ]
  },
  {
   "cell_type": "code",
   "execution_count": 34,
   "metadata": {
    "execution": {
     "iopub.execute_input": "2020-10-01T04:19:03.716148Z",
     "iopub.status.busy": "2020-10-01T04:19:03.714967Z",
     "iopub.status.idle": "2020-10-01T04:19:03.719767Z",
     "shell.execute_reply": "2020-10-01T04:19:03.720319Z"
    },
    "papermill": {
     "duration": 0.082128,
     "end_time": "2020-10-01T04:19:03.720620",
     "exception": false,
     "start_time": "2020-10-01T04:19:03.638492",
     "status": "completed"
    },
    "tags": []
   },
   "outputs": [],
   "source": [
    "X_train, X_val, y_train, y_val = train_test_split(X, y,\\\n",
    "                                                  test_size = .2,\\\n",
    "                                                  random_state=seed)"
   ]
  },
  {
   "cell_type": "code",
   "execution_count": 35,
   "metadata": {
    "execution": {
     "iopub.execute_input": "2020-10-01T04:19:03.863583Z",
     "iopub.status.busy": "2020-10-01T04:19:03.862538Z",
     "iopub.status.idle": "2020-10-01T04:19:03.868071Z",
     "shell.execute_reply": "2020-10-01T04:19:03.868625Z"
    },
    "papermill": {
     "duration": 0.081431,
     "end_time": "2020-10-01T04:19:03.868815",
     "exception": false,
     "start_time": "2020-10-01T04:19:03.787384",
     "status": "completed"
    },
    "tags": []
   },
   "outputs": [
    {
     "data": {
      "text/plain": [
       "((712, 38), (179, 38), (712,), (179,))"
      ]
     },
     "execution_count": 35,
     "metadata": {},
     "output_type": "execute_result"
    }
   ],
   "source": [
    "X_train.shape, X_val.shape, y_train.shape, y_val.shape"
   ]
  },
  {
   "cell_type": "markdown",
   "metadata": {
    "papermill": {
     "duration": 0.064532,
     "end_time": "2020-10-01T04:19:03.997334",
     "exception": false,
     "start_time": "2020-10-01T04:19:03.932802",
     "status": "completed"
    },
    "tags": []
   },
   "source": [
    "## Model training\n",
    "\n",
    "### Logistic regression"
   ]
  },
  {
   "cell_type": "code",
   "execution_count": 36,
   "metadata": {
    "execution": {
     "iopub.execute_input": "2020-10-01T04:19:04.131167Z",
     "iopub.status.busy": "2020-10-01T04:19:04.129902Z",
     "iopub.status.idle": "2020-10-01T04:19:04.236549Z",
     "shell.execute_reply": "2020-10-01T04:19:04.235718Z"
    },
    "papermill": {
     "duration": 0.175637,
     "end_time": "2020-10-01T04:19:04.236694",
     "exception": false,
     "start_time": "2020-10-01T04:19:04.061057",
     "status": "completed"
    },
    "tags": []
   },
   "outputs": [],
   "source": [
    "from sklearn.linear_model import LogisticRegression\n",
    "\n",
    "#Importing utility script\n",
    "import util_accfuncs as accfuncs"
   ]
  },
  {
   "cell_type": "code",
   "execution_count": 37,
   "metadata": {
    "execution": {
     "iopub.execute_input": "2020-10-01T04:19:04.368717Z",
     "iopub.status.busy": "2020-10-01T04:19:04.367736Z",
     "iopub.status.idle": "2020-10-01T04:19:04.371547Z",
     "shell.execute_reply": "2020-10-01T04:19:04.370780Z"
    },
    "papermill": {
     "duration": 0.072234,
     "end_time": "2020-10-01T04:19:04.371685",
     "exception": false,
     "start_time": "2020-10-01T04:19:04.299451",
     "status": "completed"
    },
    "tags": []
   },
   "outputs": [],
   "source": [
    "# Creating a dictionary of values to supply to the prediction and\n",
    "# printing functions in the utility script\n",
    "\n",
    "data = {}\n",
    "\n",
    "data['X_train'] = X_train\n",
    "data['X_val'] = X_val\n",
    "data['y_train'] = y_train\n",
    "data['y_val'] = y_val"
   ]
  },
  {
   "cell_type": "code",
   "execution_count": 38,
   "metadata": {
    "execution": {
     "iopub.execute_input": "2020-10-01T04:19:04.574882Z",
     "iopub.status.busy": "2020-10-01T04:19:04.574122Z",
     "iopub.status.idle": "2020-10-01T04:19:04.649653Z",
     "shell.execute_reply": "2020-10-01T04:19:04.648740Z"
    },
    "papermill": {
     "duration": 0.212933,
     "end_time": "2020-10-01T04:19:04.649798",
     "exception": false,
     "start_time": "2020-10-01T04:19:04.436865",
     "status": "completed"
    },
    "tags": []
   },
   "outputs": [
    {
     "name": "stdout",
     "output_type": "stream",
     "text": [
      "Logistic regression\n",
      "> Accuracy on training data = 0.8399\n",
      "> Accuracy on validation data = 0.8212\n"
     ]
    }
   ],
   "source": [
    "# Instantiating a logistic regressor and obtaining its accuracy scores\n",
    "\n",
    "lr = LogisticRegression(random_state=seed)\n",
    "\n",
    "desc = 'Logistic regression'\n",
    "instance = lr\n",
    "\n",
    "accfuncs.print_scores(desc, instance, **data)"
   ]
  },
  {
   "cell_type": "code",
   "execution_count": 39,
   "metadata": {
    "execution": {
     "iopub.execute_input": "2020-10-01T04:19:04.791367Z",
     "iopub.status.busy": "2020-10-01T04:19:04.790549Z",
     "iopub.status.idle": "2020-10-01T04:19:05.319799Z",
     "shell.execute_reply": "2020-10-01T04:19:05.318958Z"
    },
    "papermill": {
     "duration": 0.603854,
     "end_time": "2020-10-01T04:19:05.319944",
     "exception": false,
     "start_time": "2020-10-01T04:19:04.716090",
     "status": "completed"
    },
    "tags": []
   },
   "outputs": [
    {
     "name": "stdout",
     "output_type": "stream",
     "text": [
      "The logistic regression results were successfully saved.\n"
     ]
    }
   ],
   "source": [
    "# Fitting the model on the entire training data and obtaining predictions\n",
    "\n",
    "lr.fit(X, y)\n",
    "\n",
    "lr_pred = lr.predict(test)\n",
    "\n",
    "lr_data = output.copy()\n",
    "lr_data.insert(1, 'Survived', lr_pred)\n",
    "\n",
    "lr_data.to_csv('output_lr.csv', index=False)\n",
    "\n",
    "print(\"The logistic regression results were successfully saved.\")"
   ]
  },
  {
   "cell_type": "markdown",
   "metadata": {
    "papermill": {
     "duration": 0.067471,
     "end_time": "2020-10-01T04:19:05.456691",
     "exception": false,
     "start_time": "2020-10-01T04:19:05.389220",
     "status": "completed"
    },
    "tags": []
   },
   "source": [
    "### Logistic regression with grid search"
   ]
  },
  {
   "cell_type": "code",
   "execution_count": 40,
   "metadata": {
    "execution": {
     "iopub.execute_input": "2020-10-01T04:19:05.597298Z",
     "iopub.status.busy": "2020-10-01T04:19:05.596370Z",
     "iopub.status.idle": "2020-10-01T04:19:09.208167Z",
     "shell.execute_reply": "2020-10-01T04:19:09.207506Z"
    },
    "papermill": {
     "duration": 3.686858,
     "end_time": "2020-10-01T04:19:09.208301",
     "exception": false,
     "start_time": "2020-10-01T04:19:05.521443",
     "status": "completed"
    },
    "tags": []
   },
   "outputs": [
    {
     "data": {
      "text/plain": [
       "GridSearchCV(cv=StratifiedShuffleSplit(n_splits=10, random_state=0, test_size=0.25,\n",
       "            train_size=None),\n",
       "             estimator=LogisticRegression(), n_jobs=-1,\n",
       "             param_grid={'C': array([0.2, 0.3, 0.4, 0.5, 0.6, 0.7, 0.8, 0.9, 1. ]),\n",
       "                         'random_state': [0]},\n",
       "             scoring='accuracy')"
      ]
     },
     "execution_count": 40,
     "metadata": {},
     "output_type": "execute_result"
    }
   ],
   "source": [
    "# Using grid search to identify optimal parameters\n",
    "# Cross validating with StratifiedShuffleSplit on multiple samples of data\n",
    "\n",
    "from sklearn.model_selection import GridSearchCV\n",
    "from sklearn.model_selection import StratifiedShuffleSplit\n",
    "\n",
    "# Defining C values, which will be used to control model complexity\n",
    "# Model complexity inversely proportional to C values\n",
    "\n",
    "c_vals = np.linspace(0.2, 1, 9)\n",
    "grid_search_param = {'C': c_vals, 'random_state': [seed]}\n",
    "\n",
    "# Initializing sampler \n",
    "cv = StratifiedShuffleSplit(n_splits=10, test_size=.25, random_state=seed)\n",
    "\n",
    "lr = LogisticRegression()\n",
    "\n",
    "# Instantiating GridSearchCV \n",
    "grid_lr = GridSearchCV(estimator = lr, param_grid = grid_search_param,\\\n",
    "                    scoring = 'accuracy', n_jobs = -1, cv = cv)\n",
    "\n",
    "# Fitting the model\n",
    "grid_lr.fit(X, y)"
   ]
  },
  {
   "cell_type": "code",
   "execution_count": 41,
   "metadata": {
    "execution": {
     "iopub.execute_input": "2020-10-01T04:19:09.358392Z",
     "iopub.status.busy": "2020-10-01T04:19:09.357292Z",
     "iopub.status.idle": "2020-10-01T04:19:09.362284Z",
     "shell.execute_reply": "2020-10-01T04:19:09.363301Z"
    },
    "papermill": {
     "duration": 0.083922,
     "end_time": "2020-10-01T04:19:09.363552",
     "exception": false,
     "start_time": "2020-10-01T04:19:09.279630",
     "status": "completed"
    },
    "tags": []
   },
   "outputs": [
    {
     "name": "stdout",
     "output_type": "stream",
     "text": [
      "0.8246636771300448\n",
      "{'C': 0.2, 'random_state': 0}\n",
      "LogisticRegression(C=0.2, random_state=0)\n"
     ]
    }
   ],
   "source": [
    "# Getting the best details from the grid\n",
    "\n",
    "print(grid_lr.best_score_)\n",
    "print(grid_lr.best_params_)\n",
    "print(grid_lr.best_estimator_)"
   ]
  },
  {
   "cell_type": "code",
   "execution_count": 42,
   "metadata": {
    "execution": {
     "iopub.execute_input": "2020-10-01T04:19:09.515614Z",
     "iopub.status.busy": "2020-10-01T04:19:09.514801Z",
     "iopub.status.idle": "2020-10-01T04:19:09.523511Z",
     "shell.execute_reply": "2020-10-01T04:19:09.522735Z"
    },
    "papermill": {
     "duration": 0.089114,
     "end_time": "2020-10-01T04:19:09.523686",
     "exception": false,
     "start_time": "2020-10-01T04:19:09.434572",
     "status": "completed"
    },
    "tags": []
   },
   "outputs": [
    {
     "data": {
      "text/plain": [
       "0.8338945005611672"
      ]
     },
     "execution_count": 42,
     "metadata": {},
     "output_type": "execute_result"
    }
   ],
   "source": [
    "# Using the best grid parameters to score model\n",
    "\n",
    "lr_grid = grid_lr.best_estimator_\n",
    "lr_grid.score(X, y)"
   ]
  },
  {
   "cell_type": "code",
   "execution_count": 43,
   "metadata": {
    "execution": {
     "iopub.execute_input": "2020-10-01T04:19:09.676285Z",
     "iopub.status.busy": "2020-10-01T04:19:09.675368Z",
     "iopub.status.idle": "2020-10-01T04:19:09.681318Z",
     "shell.execute_reply": "2020-10-01T04:19:09.682374Z"
    },
    "papermill": {
     "duration": 0.088481,
     "end_time": "2020-10-01T04:19:09.682648",
     "exception": false,
     "start_time": "2020-10-01T04:19:09.594167",
     "status": "completed"
    },
    "tags": []
   },
   "outputs": [
    {
     "name": "stdout",
     "output_type": "stream",
     "text": [
      "The logistic regression (with grid search) results were successfully saved.\n"
     ]
    }
   ],
   "source": [
    "# Final predictions\n",
    "\n",
    "lr_grid_pred = lr_grid.predict(test)\n",
    "\n",
    "lr_grid_data = output.copy()\n",
    "lr_grid_data.insert(1, 'Survived', lr_grid_pred)\n",
    "\n",
    "lr_grid_data.to_csv('output_lr_grid.csv', index=False)\n",
    "\n",
    "print(\"The logistic regression (with grid search) results were successfully saved.\")"
   ]
  },
  {
   "cell_type": "markdown",
   "metadata": {
    "papermill": {
     "duration": 0.067864,
     "end_time": "2020-10-01T04:19:09.817976",
     "exception": false,
     "start_time": "2020-10-01T04:19:09.750112",
     "status": "completed"
    },
    "tags": []
   },
   "source": [
    "## Bagging classifier"
   ]
  },
  {
   "cell_type": "code",
   "execution_count": 44,
   "metadata": {
    "execution": {
     "iopub.execute_input": "2020-10-01T04:19:09.963590Z",
     "iopub.status.busy": "2020-10-01T04:19:09.962393Z",
     "iopub.status.idle": "2020-10-01T04:19:10.123495Z",
     "shell.execute_reply": "2020-10-01T04:19:10.122665Z"
    },
    "papermill": {
     "duration": 0.238963,
     "end_time": "2020-10-01T04:19:10.123639",
     "exception": false,
     "start_time": "2020-10-01T04:19:09.884676",
     "status": "completed"
    },
    "tags": []
   },
   "outputs": [],
   "source": [
    "from sklearn.ensemble import BaggingClassifier\n",
    "from sklearn.tree import DecisionTreeClassifier"
   ]
  },
  {
   "cell_type": "code",
   "execution_count": 45,
   "metadata": {
    "execution": {
     "iopub.execute_input": "2020-10-01T04:19:10.276998Z",
     "iopub.status.busy": "2020-10-01T04:19:10.276002Z",
     "iopub.status.idle": "2020-10-01T04:19:10.279134Z",
     "shell.execute_reply": "2020-10-01T04:19:10.279882Z"
    },
    "papermill": {
     "duration": 0.084871,
     "end_time": "2020-10-01T04:19:10.280070",
     "exception": false,
     "start_time": "2020-10-01T04:19:10.195199",
     "status": "completed"
    },
    "tags": []
   },
   "outputs": [],
   "source": [
    "# Instantiating bagging ensemble and base estimator\n",
    "\n",
    "dt_params = {'criterion': 'entropy', 'random_state': seed}\n",
    "dt = DecisionTreeClassifier(**dt_params)\n",
    "\n",
    "bg_params = { 'base_estimator': dt, 'n_estimators': 50,\\\n",
    "                'max_samples': 0.5, 'random_state': seed, 'n_jobs': -1}\n",
    "bg = BaggingClassifier(**bg_params)"
   ]
  },
  {
   "cell_type": "code",
   "execution_count": 46,
   "metadata": {
    "execution": {
     "iopub.execute_input": "2020-10-01T04:19:10.422535Z",
     "iopub.status.busy": "2020-10-01T04:19:10.421773Z",
     "iopub.status.idle": "2020-10-01T04:19:10.721218Z",
     "shell.execute_reply": "2020-10-01T04:19:10.719728Z"
    },
    "papermill": {
     "duration": 0.375008,
     "end_time": "2020-10-01T04:19:10.721456",
     "exception": false,
     "start_time": "2020-10-01T04:19:10.346448",
     "status": "completed"
    },
    "tags": []
   },
   "outputs": [
    {
     "name": "stdout",
     "output_type": "stream",
     "text": [
      "Bagging\n",
      "> Accuracy on training data = 0.9213\n",
      "> Accuracy on validation data = 0.8324\n"
     ]
    }
   ],
   "source": [
    "# Printing the accuracy of the bagging classifier\n",
    "\n",
    "desc = 'Bagging'\n",
    "instance = bg\n",
    "\n",
    "accfuncs.print_scores(desc, instance, **data)"
   ]
  },
  {
   "cell_type": "code",
   "execution_count": 47,
   "metadata": {
    "execution": {
     "iopub.execute_input": "2020-10-01T04:19:10.881957Z",
     "iopub.status.busy": "2020-10-01T04:19:10.881107Z",
     "iopub.status.idle": "2020-10-01T04:19:11.051842Z",
     "shell.execute_reply": "2020-10-01T04:19:11.052510Z"
    },
    "papermill": {
     "duration": 0.248891,
     "end_time": "2020-10-01T04:19:11.052691",
     "exception": false,
     "start_time": "2020-10-01T04:19:10.803800",
     "status": "completed"
    },
    "tags": []
   },
   "outputs": [
    {
     "name": "stdout",
     "output_type": "stream",
     "text": [
      "The bagging-classifier results were successfully saved.\n"
     ]
    }
   ],
   "source": [
    "# Fitting the model on the entire training data and obtaining predictions\n",
    "\n",
    "bg.fit(X, y)\n",
    "\n",
    "bg_pred = bg.predict(test)\n",
    "\n",
    "bg_data = output.copy()\n",
    "bg_data.insert(1, 'Survived', bg_pred)\n",
    "\n",
    "bg_data.to_csv('output_bg.csv', index=False)\n",
    "\n",
    "print(\"The bagging-classifier results were successfully saved.\")"
   ]
  },
  {
   "cell_type": "markdown",
   "metadata": {
    "papermill": {
     "duration": 0.072667,
     "end_time": "2020-10-01T04:19:11.204200",
     "exception": false,
     "start_time": "2020-10-01T04:19:11.131533",
     "status": "completed"
    },
    "tags": []
   },
   "source": [
    "## Gradient boosting"
   ]
  },
  {
   "cell_type": "code",
   "execution_count": 48,
   "metadata": {
    "execution": {
     "iopub.execute_input": "2020-10-01T04:19:11.354007Z",
     "iopub.status.busy": "2020-10-01T04:19:11.352927Z",
     "iopub.status.idle": "2020-10-01T04:19:11.357024Z",
     "shell.execute_reply": "2020-10-01T04:19:11.356181Z"
    },
    "papermill": {
     "duration": 0.081475,
     "end_time": "2020-10-01T04:19:11.357156",
     "exception": false,
     "start_time": "2020-10-01T04:19:11.275681",
     "status": "completed"
    },
    "tags": []
   },
   "outputs": [],
   "source": [
    "# Importing relevant modules\n",
    "\n",
    "from sklearn.ensemble import GradientBoostingClassifier"
   ]
  },
  {
   "cell_type": "code",
   "execution_count": 49,
   "metadata": {
    "execution": {
     "iopub.execute_input": "2020-10-01T04:19:11.512319Z",
     "iopub.status.busy": "2020-10-01T04:19:11.511533Z",
     "iopub.status.idle": "2020-10-01T04:19:11.515284Z",
     "shell.execute_reply": "2020-10-01T04:19:11.514514Z"
    },
    "papermill": {
     "duration": 0.084269,
     "end_time": "2020-10-01T04:19:11.515433",
     "exception": false,
     "start_time": "2020-10-01T04:19:11.431164",
     "status": "completed"
    },
    "tags": []
   },
   "outputs": [],
   "source": [
    "# Specifying hyperparameters and creating an instance of GradientBoostingClassifier\n",
    "\n",
    "gb_params = {'n_estimators': 100, 'max_depth': 5,\\\n",
    "             'min_samples_leaf': 1, 'random_state': seed}\n",
    "gb = GradientBoostingClassifier(**gb_params)"
   ]
  },
  {
   "cell_type": "code",
   "execution_count": 50,
   "metadata": {
    "execution": {
     "iopub.execute_input": "2020-10-01T04:19:11.670640Z",
     "iopub.status.busy": "2020-10-01T04:19:11.669826Z",
     "iopub.status.idle": "2020-10-01T04:19:11.977088Z",
     "shell.execute_reply": "2020-10-01T04:19:11.976041Z"
    },
    "papermill": {
     "duration": 0.386955,
     "end_time": "2020-10-01T04:19:11.977268",
     "exception": false,
     "start_time": "2020-10-01T04:19:11.590313",
     "status": "completed"
    },
    "tags": []
   },
   "outputs": [
    {
     "name": "stdout",
     "output_type": "stream",
     "text": [
      "Gradient boosting\n",
      "> Accuracy on training data = 0.9537\n",
      "> Accuracy on validation data = 0.8547\n"
     ]
    }
   ],
   "source": [
    "# Printing the accuracy of the gradient-boosting (GB) classifier\n",
    "\n",
    "desc = 'Gradient boosting'\n",
    "instance = gb\n",
    "\n",
    "accfuncs.print_scores(desc, instance, **data)"
   ]
  },
  {
   "cell_type": "code",
   "execution_count": 51,
   "metadata": {
    "execution": {
     "iopub.execute_input": "2020-10-01T04:19:12.127964Z",
     "iopub.status.busy": "2020-10-01T04:19:12.127091Z",
     "iopub.status.idle": "2020-10-01T04:19:12.485420Z",
     "shell.execute_reply": "2020-10-01T04:19:12.485993Z"
    },
    "papermill": {
     "duration": 0.438396,
     "end_time": "2020-10-01T04:19:12.486175",
     "exception": false,
     "start_time": "2020-10-01T04:19:12.047779",
     "status": "completed"
    },
    "tags": []
   },
   "outputs": [
    {
     "name": "stdout",
     "output_type": "stream",
     "text": [
      "The GB classifier results were successfully saved.\n"
     ]
    }
   ],
   "source": [
    "# Fitting the GB classifier on the entire training data and obtaining predictions\n",
    "\n",
    "gb.fit(X, y)\n",
    "\n",
    "gb_pred = gb.predict(test)\n",
    "\n",
    "gb_data = output.copy()\n",
    "gb_data.insert(1, 'Survived', gb_pred)\n",
    "\n",
    "gb_data.to_csv('output_gb.csv', index=False)\n",
    "\n",
    "print(\"The GB classifier results were successfully saved.\")"
   ]
  },
  {
   "cell_type": "markdown",
   "metadata": {
    "papermill": {
     "duration": 0.074445,
     "end_time": "2020-10-01T04:19:12.637332",
     "exception": false,
     "start_time": "2020-10-01T04:19:12.562887",
     "status": "completed"
    },
    "tags": []
   },
   "source": [
    "## Random forest"
   ]
  },
  {
   "cell_type": "code",
   "execution_count": 52,
   "metadata": {
    "execution": {
     "iopub.execute_input": "2020-10-01T04:19:12.785915Z",
     "iopub.status.busy": "2020-10-01T04:19:12.785004Z",
     "iopub.status.idle": "2020-10-01T04:19:12.790057Z",
     "shell.execute_reply": "2020-10-01T04:19:12.788927Z"
    },
    "papermill": {
     "duration": 0.082049,
     "end_time": "2020-10-01T04:19:12.790216",
     "exception": false,
     "start_time": "2020-10-01T04:19:12.708167",
     "status": "completed"
    },
    "tags": []
   },
   "outputs": [],
   "source": [
    "from sklearn.ensemble import RandomForestClassifier\n",
    "\n",
    "# Specifying hyperparameters and creating an instance of RandomForestClassifier\n",
    "\n",
    "rf_params = {'criterion': 'entropy', 'n_estimators': 100, 'max_features': 0.5,\\\n",
    "             'min_samples_leaf': 8, 'n_jobs': -1, 'random_state': seed}\n",
    "rf = RandomForestClassifier(**rf_params)"
   ]
  },
  {
   "cell_type": "code",
   "execution_count": 53,
   "metadata": {
    "execution": {
     "iopub.execute_input": "2020-10-01T04:19:12.948552Z",
     "iopub.status.busy": "2020-10-01T04:19:12.947704Z",
     "iopub.status.idle": "2020-10-01T04:19:13.655597Z",
     "shell.execute_reply": "2020-10-01T04:19:13.654921Z"
    },
    "papermill": {
     "duration": 0.791699,
     "end_time": "2020-10-01T04:19:13.655730",
     "exception": false,
     "start_time": "2020-10-01T04:19:12.864031",
     "status": "completed"
    },
    "tags": []
   },
   "outputs": [
    {
     "name": "stdout",
     "output_type": "stream",
     "text": [
      "Random forest\n",
      "> Accuracy on training data = 0.8610\n",
      "> Accuracy on validation data = 0.8101\n"
     ]
    }
   ],
   "source": [
    "# Printing the accuracy of the random-forest (RF) classifier\n",
    "\n",
    "desc = 'Random forest'\n",
    "instance = rf\n",
    "\n",
    "accfuncs.print_scores(desc, instance, **data)"
   ]
  },
  {
   "cell_type": "code",
   "execution_count": 54,
   "metadata": {
    "execution": {
     "iopub.execute_input": "2020-10-01T04:19:13.817900Z",
     "iopub.status.busy": "2020-10-01T04:19:13.817101Z",
     "iopub.status.idle": "2020-10-01T04:19:14.418862Z",
     "shell.execute_reply": "2020-10-01T04:19:14.418024Z"
    },
    "papermill": {
     "duration": 0.688774,
     "end_time": "2020-10-01T04:19:14.419006",
     "exception": false,
     "start_time": "2020-10-01T04:19:13.730232",
     "status": "completed"
    },
    "tags": []
   },
   "outputs": [
    {
     "name": "stdout",
     "output_type": "stream",
     "text": [
      "The RF classifier results were successfully saved.\n"
     ]
    }
   ],
   "source": [
    "# Fitting the RF classifier on the entire training data and obtaining predictions\n",
    "\n",
    "rf.fit(X, y)\n",
    "\n",
    "rf_pred = rf.predict(test)\n",
    "\n",
    "rf_data = output.copy()\n",
    "rf_data.insert(1, 'Survived', rf_pred)\n",
    "\n",
    "rf_data.to_csv('output_rf.csv', index=False)\n",
    "\n",
    "print(\"The RF classifier results were successfully saved.\")"
   ]
  },
  {
   "cell_type": "markdown",
   "metadata": {
    "papermill": {
     "duration": 0.073224,
     "end_time": "2020-10-01T04:19:14.567321",
     "exception": false,
     "start_time": "2020-10-01T04:19:14.494097",
     "status": "completed"
    },
    "tags": []
   },
   "source": [
    "## Random forest with grid search "
   ]
  },
  {
   "cell_type": "code",
   "execution_count": 55,
   "metadata": {
    "execution": {
     "iopub.execute_input": "2020-10-01T04:19:14.728010Z",
     "iopub.status.busy": "2020-10-01T04:19:14.725572Z",
     "iopub.status.idle": "2020-10-01T04:21:32.186807Z",
     "shell.execute_reply": "2020-10-01T04:21:32.187468Z"
    },
    "papermill": {
     "duration": 137.547871,
     "end_time": "2020-10-01T04:21:32.187675",
     "exception": false,
     "start_time": "2020-10-01T04:19:14.639804",
     "status": "completed"
    },
    "tags": []
   },
   "outputs": [
    {
     "data": {
      "text/plain": [
       "GridSearchCV(cv=StratifiedShuffleSplit(n_splits=10, random_state=0, test_size=0.3,\n",
       "            train_size=None),\n",
       "             estimator=RandomForestClassifier(), n_jobs=-1,\n",
       "             param_grid={'criterion': ['gini', 'entropy'],\n",
       "                         'max_depth': range(1, 10),\n",
       "                         'n_estimators': [140, 145, 150, 155, 160],\n",
       "                         'random_state': [0]})"
      ]
     },
     "execution_count": 55,
     "metadata": {},
     "output_type": "execute_result"
    }
   ],
   "source": [
    "from sklearn.model_selection import StratifiedKFold\n",
    "\n",
    "n_estimators = [140, 145, 150, 155, 160]\n",
    "max_depth = range(1, 10);\n",
    "criteria = ['gini', 'entropy']\n",
    "\n",
    "parameters = {'n_estimators': n_estimators, 'max_depth': max_depth,\\\n",
    "              'criterion': criteria, 'random_state': [seed]}\n",
    "cv = StratifiedShuffleSplit(n_splits=10, test_size=.30, random_state=seed)\n",
    "\n",
    "grid_rf = GridSearchCV(estimator=RandomForestClassifier(max_features='auto'),\\\n",
    "                    param_grid=parameters, cv=cv, n_jobs = -1)\n",
    "grid_rf.fit(X, y)"
   ]
  },
  {
   "cell_type": "code",
   "execution_count": 56,
   "metadata": {
    "execution": {
     "iopub.execute_input": "2020-10-01T04:21:32.339836Z",
     "iopub.status.busy": "2020-10-01T04:21:32.338591Z",
     "iopub.status.idle": "2020-10-01T04:21:32.345567Z",
     "shell.execute_reply": "2020-10-01T04:21:32.344929Z"
    },
    "papermill": {
     "duration": 0.086202,
     "end_time": "2020-10-01T04:21:32.345719",
     "exception": false,
     "start_time": "2020-10-01T04:21:32.259517",
     "status": "completed"
    },
    "tags": []
   },
   "outputs": [
    {
     "name": "stdout",
     "output_type": "stream",
     "text": [
      "0.8402985074626865\n",
      "{'criterion': 'gini', 'max_depth': 7, 'n_estimators': 140, 'random_state': 0}\n",
      "RandomForestClassifier(max_depth=7, n_estimators=140, random_state=0)\n"
     ]
    }
   ],
   "source": [
    "print(grid_rf.best_score_)\n",
    "print(grid_rf.best_params_)\n",
    "print(grid_rf.best_estimator_)"
   ]
  },
  {
   "cell_type": "code",
   "execution_count": 57,
   "metadata": {
    "execution": {
     "iopub.execute_input": "2020-10-01T04:21:32.501569Z",
     "iopub.status.busy": "2020-10-01T04:21:32.500330Z",
     "iopub.status.idle": "2020-10-01T04:21:32.537203Z",
     "shell.execute_reply": "2020-10-01T04:21:32.536247Z"
    },
    "papermill": {
     "duration": 0.119128,
     "end_time": "2020-10-01T04:21:32.537416",
     "exception": false,
     "start_time": "2020-10-01T04:21:32.418288",
     "status": "completed"
    },
    "tags": []
   },
   "outputs": [
    {
     "data": {
      "text/plain": [
       "0.8967452300785634"
      ]
     },
     "execution_count": 57,
     "metadata": {},
     "output_type": "execute_result"
    }
   ],
   "source": [
    "rf_grid = grid_rf.best_estimator_\n",
    "rf_grid.score(X, y)"
   ]
  },
  {
   "cell_type": "code",
   "execution_count": 58,
   "metadata": {
    "execution": {
     "iopub.execute_input": "2020-10-01T04:21:32.694424Z",
     "iopub.status.busy": "2020-10-01T04:21:32.693621Z",
     "iopub.status.idle": "2020-10-01T04:21:32.726474Z",
     "shell.execute_reply": "2020-10-01T04:21:32.725811Z"
    },
    "papermill": {
     "duration": 0.115575,
     "end_time": "2020-10-01T04:21:32.726629",
     "exception": false,
     "start_time": "2020-10-01T04:21:32.611054",
     "status": "completed"
    },
    "tags": []
   },
   "outputs": [
    {
     "name": "stdout",
     "output_type": "stream",
     "text": [
      "The random forest (with grid search) results were successfully saved.\n"
     ]
    }
   ],
   "source": [
    "# Final predictions\n",
    "\n",
    "rf_grid_pred = rf_grid.predict(test)\n",
    "\n",
    "rf_grid_data = output.copy()\n",
    "rf_grid_data.insert(1, 'Survived', rf_grid_pred)\n",
    "\n",
    "rf_grid_data.to_csv('output_rf_grid.csv', index=False)\n",
    "\n",
    "print(\"The random forest (with grid search) results were successfully saved.\")"
   ]
  },
  {
   "cell_type": "markdown",
   "metadata": {
    "papermill": {
     "duration": 0.073124,
     "end_time": "2020-10-01T04:21:32.873551",
     "exception": false,
     "start_time": "2020-10-01T04:21:32.800427",
     "status": "completed"
    },
    "tags": []
   },
   "source": [
    "### Using an ROC graph to depict model accuracy"
   ]
  },
  {
   "cell_type": "code",
   "execution_count": 59,
   "metadata": {
    "execution": {
     "iopub.execute_input": "2020-10-01T04:21:33.103011Z",
     "iopub.status.busy": "2020-10-01T04:21:33.101921Z",
     "iopub.status.idle": "2020-10-01T04:21:33.266685Z",
     "shell.execute_reply": "2020-10-01T04:21:33.265885Z"
    },
    "papermill": {
     "duration": 0.285752,
     "end_time": "2020-10-01T04:21:33.266857",
     "exception": false,
     "start_time": "2020-10-01T04:21:32.981105",
     "status": "completed"
    },
    "tags": []
   },
   "outputs": [],
   "source": [
    "import seaborn as sns\n",
    "import matplotlib.pyplot as plt\n",
    "\n",
    "sns.set_style(\"darkgrid\")\n",
    "sns.set_palette('Paired', 9)\n",
    "sns.set_context('notebook', rc={'figure.figsize':(7,6),\\\n",
    "                                              \"lines.linewidth\": 2.5})"
   ]
  },
  {
   "cell_type": "code",
   "execution_count": 60,
   "metadata": {
    "execution": {
     "iopub.execute_input": "2020-10-01T04:21:33.428151Z",
     "iopub.status.busy": "2020-10-01T04:21:33.422832Z",
     "iopub.status.idle": "2020-10-01T04:21:35.433171Z",
     "shell.execute_reply": "2020-10-01T04:21:35.434053Z"
    },
    "papermill": {
     "duration": 2.094013,
     "end_time": "2020-10-01T04:21:35.434260",
     "exception": false,
     "start_time": "2020-10-01T04:21:33.340247",
     "status": "completed"
    },
    "tags": []
   },
   "outputs": [
    {
     "data": {
      "image/png": "[encoded data removed]",
      "text/plain": [
       "<Figure size 576x432 with 1 Axes>"
      ]
     },
     "metadata": {},
     "output_type": "display_data"
    }
   ],
   "source": [
    "# Depicting model accuracy in a graph\n",
    "from sklearn.metrics import roc_curve, auc\n",
    "\n",
    "fig, ax = plt.subplots(figsize=(8, 6))\n",
    "\n",
    "# Logistic Regression\n",
    "lr.fit(X_train, y_train)\n",
    "score_val = lr.decision_function(X_val)\n",
    "fpr, tpr, thresholds = roc_curve(y_val, score_val)\n",
    "roc_auc = auc(fpr, tpr)\n",
    "plt.plot(fpr, tpr, label=f'Logistic regression ROC (area = {roc_auc:0.2f})')\n",
    "\n",
    "# Logistic Regression with grid search\n",
    "score_val = lr_grid.decision_function(X_val)\n",
    "fpr, tpr, thresholds = roc_curve(y_val, score_val)\n",
    "roc_auc = auc(fpr, tpr)\n",
    "plt.plot(fpr, tpr, label=f'Logistic regression (grid) ROC (area = {roc_auc:0.2f})')\n",
    "\n",
    "# Bagging\n",
    "probabilities = bg.fit(X_train, y_train).predict_proba(X_val)\n",
    "fpr, tpr, thresholds = roc_curve(y_val, probabilities[:, 1])\n",
    "roc_auc = auc(fpr, tpr)\n",
    "plt.plot(fpr, tpr, label=f'Bagging ROC (area = {roc_auc:0.2f})')\n",
    "\n",
    "# Gradient boosting\n",
    "probabilities = gb.fit(X_train, y_train).predict_proba(X_val)\n",
    "fpr, tpr, thresholds = roc_curve(y_val, probabilities[:, 1])\n",
    "roc_auc = auc(fpr, tpr)\n",
    "plt.plot(fpr, tpr, label=f'Gradient boosting ROC (area = {roc_auc:0.2f})')\n",
    "\n",
    "# Random forest\n",
    "probabilities = rf.fit(X_train, y_train).predict_proba(X_val)\n",
    "fpr, tpr, thresholds = roc_curve(y_val, probabilities[:, 1])\n",
    "roc_auc = auc(fpr, tpr)\n",
    "plt.plot(fpr, tpr, label=f'Random forest ROC (area = {roc_auc:0.2f})')\n",
    "\n",
    "# Random forest with grid search\n",
    "probabilities = rf_grid.fit(X_train, y_train).predict_proba(X_val)\n",
    "fpr, tpr, thresholds = roc_curve(y_val, probabilities[:, 1])\n",
    "roc_auc = auc(fpr, tpr)\n",
    "plt.plot(fpr, tpr, label=f'Random forest (grid) ROC (area = {roc_auc:0.2f})')\n",
    "\n",
    "plt.plot([0, 1], [0, 1], 'k--')\n",
    "plt.xlim([0.0, 1.02])\n",
    "plt.ylim([0.0, 1.02])\n",
    "plt.xlabel('False-positive rate (FPR)')\n",
    "plt.ylabel('True-positive rate (TPR)')\n",
    "plt.title('ROC for Titanic survivors', fontsize= 16)\n",
    "plt.legend(loc=0, fontsize='small');"
   ]
  },
  {
   "cell_type": "markdown",
   "metadata": {
    "papermill": {
     "duration": 0.08614,
     "end_time": "2020-10-01T04:21:35.605342",
     "exception": false,
     "start_time": "2020-10-01T04:21:35.519202",
     "status": "completed"
    },
    "tags": []
   },
   "source": [
    "## Reference\n",
    "\n",
    "https://nbviewer.jupyter.org/github/porvakanti/Kaggle-Competition-TitanicSurvival/blob/master/Kaggle_Titanic_ML_from_Disasters.ipynb"
   ]
  }
 ],
 "metadata": {
  "kernelspec": {
   "display_name": "Python 3",
   "language": "python",
   "name": "python3"
  },
  "language_info": {
   "codemirror_mode": {
    "name": "ipython",
    "version": 3
   },
   "file_extension": ".py",
   "mimetype": "text/x-python",
   "name": "python",
   "nbconvert_exporter": "python",
   "pygments_lexer": "ipython3",
   "version": "3.7.6"
  },
  "papermill": {
   "duration": 164.052457,
   "end_time": "2020-10-01T04:21:35.807936",
   "environment_variables": {},
   "exception": null,
   "input_path": "__notebook__.ipynb",
   "output_path": "__notebook__.ipynb",
   "parameters": {},
   "start_time": "2020-10-01T04:18:51.755479",
   "version": "2.1.0"
  }
 },
 "nbformat": 4,
 "nbformat_minor": 4
}
